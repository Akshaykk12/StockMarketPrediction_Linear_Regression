{
 "cells": [
  {
   "cell_type": "code",
   "execution_count": 26,
   "id": "dfa3b6ab",
   "metadata": {},
   "outputs": [],
   "source": [
    "import pandas as pd\n",
    "import numpy as np\n",
    "from sklearn import linear_model\n",
    "import matplotlib.pyplot as plt\n",
    "from sklearn.metrics import mean_squared_error, r2_score"
   ]
  },
  {
   "cell_type": "code",
   "execution_count": 2,
   "id": "dbbbefff",
   "metadata": {},
   "outputs": [],
   "source": [
    "df=pd.read_csv(\"Update.csv\")"
   ]
  },
  {
   "cell_type": "code",
   "execution_count": 3,
   "id": "f4d07915",
   "metadata": {},
   "outputs": [
    {
     "data": {
      "text/html": [
       "<div>\n",
       "<style scoped>\n",
       "    .dataframe tbody tr th:only-of-type {\n",
       "        vertical-align: middle;\n",
       "    }\n",
       "\n",
       "    .dataframe tbody tr th {\n",
       "        vertical-align: top;\n",
       "    }\n",
       "\n",
       "    .dataframe thead th {\n",
       "        text-align: right;\n",
       "    }\n",
       "</style>\n",
       "<table border=\"1\" class=\"dataframe\">\n",
       "  <thead>\n",
       "    <tr style=\"text-align: right;\">\n",
       "      <th></th>\n",
       "      <th>Date</th>\n",
       "      <th>series</th>\n",
       "      <th>OPEN</th>\n",
       "      <th>HIGH</th>\n",
       "      <th>LOW</th>\n",
       "      <th>PREV. CLOSE</th>\n",
       "      <th>ltp</th>\n",
       "      <th>close</th>\n",
       "      <th>vwap</th>\n",
       "      <th>52W H</th>\n",
       "      <th>52W L</th>\n",
       "      <th>VOLUME</th>\n",
       "      <th>VALUE</th>\n",
       "      <th>No of trades</th>\n",
       "    </tr>\n",
       "  </thead>\n",
       "  <tbody>\n",
       "    <tr>\n",
       "      <th>0</th>\n",
       "      <td>28-Aug-23</td>\n",
       "      <td>EQ</td>\n",
       "      <td>2,472.00</td>\n",
       "      <td>2,484.00</td>\n",
       "      <td>2,431.10</td>\n",
       "      <td>2,468.35</td>\n",
       "      <td>2,436.95</td>\n",
       "      <td>2,443.75</td>\n",
       "      <td>2,465.38</td>\n",
       "      <td>2,630.95</td>\n",
       "      <td>2,431.10</td>\n",
       "      <td>6,290,413</td>\n",
       "      <td>15,508,240,986.20</td>\n",
       "      <td>248,985</td>\n",
       "    </tr>\n",
       "    <tr>\n",
       "      <th>1</th>\n",
       "      <td>25-Aug-23</td>\n",
       "      <td>EQ</td>\n",
       "      <td>2,456.00</td>\n",
       "      <td>2,505.00</td>\n",
       "      <td>2,442.60</td>\n",
       "      <td>2,479.80</td>\n",
       "      <td>2,461.90</td>\n",
       "      <td>2,468.35</td>\n",
       "      <td>2,475.31</td>\n",
       "      <td>2,630.95</td>\n",
       "      <td>2,442.60</td>\n",
       "      <td>11,111,200</td>\n",
       "      <td>27,503,665,768.50</td>\n",
       "      <td>309,987</td>\n",
       "    </tr>\n",
       "    <tr>\n",
       "      <th>2</th>\n",
       "      <td>24-Aug-23</td>\n",
       "      <td>EQ</td>\n",
       "      <td>2,539.90</td>\n",
       "      <td>2,539.90</td>\n",
       "      <td>2,471.00</td>\n",
       "      <td>2,522.20</td>\n",
       "      <td>2,475.80</td>\n",
       "      <td>2,479.80</td>\n",
       "      <td>2,505.26</td>\n",
       "      <td>2,630.95</td>\n",
       "      <td>2,458.05</td>\n",
       "      <td>7,070,010</td>\n",
       "      <td>17,712,228,152.35</td>\n",
       "      <td>277,360</td>\n",
       "    </tr>\n",
       "    <tr>\n",
       "      <th>3</th>\n",
       "      <td>23-Aug-23</td>\n",
       "      <td>EQ</td>\n",
       "      <td>2,524.20</td>\n",
       "      <td>2,542.85</td>\n",
       "      <td>2,516.95</td>\n",
       "      <td>2,519.40</td>\n",
       "      <td>2,518.20</td>\n",
       "      <td>2,522.20</td>\n",
       "      <td>2,528.38</td>\n",
       "      <td>2,630.95</td>\n",
       "      <td>2,458.05</td>\n",
       "      <td>4,758,976</td>\n",
       "      <td>12,032,500,977.45</td>\n",
       "      <td>186,890</td>\n",
       "    </tr>\n",
       "    <tr>\n",
       "      <th>4</th>\n",
       "      <td>22-Aug-23</td>\n",
       "      <td>EQ</td>\n",
       "      <td>2,516.90</td>\n",
       "      <td>2,537.95</td>\n",
       "      <td>2,499.00</td>\n",
       "      <td>2,520.00</td>\n",
       "      <td>2,523.00</td>\n",
       "      <td>2,519.40</td>\n",
       "      <td>2,522.49</td>\n",
       "      <td>2,630.95</td>\n",
       "      <td>2,458.05</td>\n",
       "      <td>3,856,522</td>\n",
       "      <td>9,728,035,039.30</td>\n",
       "      <td>234,127</td>\n",
       "    </tr>\n",
       "  </tbody>\n",
       "</table>\n",
       "</div>"
      ],
      "text/plain": [
       "       Date  series      OPEN      HIGH       LOW  PREV. CLOSE       ltp   \\\n",
       "0  28-Aug-23      EQ  2,472.00  2,484.00  2,431.10     2,468.35  2,436.95   \n",
       "1  25-Aug-23      EQ  2,456.00  2,505.00  2,442.60     2,479.80  2,461.90   \n",
       "2  24-Aug-23      EQ  2,539.90  2,539.90  2,471.00     2,522.20  2,475.80   \n",
       "3  23-Aug-23      EQ  2,524.20  2,542.85  2,516.95     2,519.40  2,518.20   \n",
       "4  22-Aug-23      EQ  2,516.90  2,537.95  2,499.00     2,520.00  2,523.00   \n",
       "\n",
       "     close      vwap     52W H     52W L      VOLUME              VALUE   \\\n",
       "0  2,443.75  2,465.38  2,630.95  2,431.10   6,290,413  15,508,240,986.20   \n",
       "1  2,468.35  2,475.31  2,630.95  2,442.60  11,111,200  27,503,665,768.50   \n",
       "2  2,479.80  2,505.26  2,630.95  2,458.05   7,070,010  17,712,228,152.35   \n",
       "3  2,522.20  2,528.38  2,630.95  2,458.05   4,758,976  12,032,500,977.45   \n",
       "4  2,519.40  2,522.49  2,630.95  2,458.05   3,856,522   9,728,035,039.30   \n",
       "\n",
       "  No of trades   \n",
       "0       248,985  \n",
       "1       309,987  \n",
       "2       277,360  \n",
       "3       186,890  \n",
       "4       234,127  "
      ]
     },
     "execution_count": 3,
     "metadata": {},
     "output_type": "execute_result"
    }
   ],
   "source": [
    "df.head()"
   ]
  },
  {
   "cell_type": "code",
   "execution_count": 4,
   "id": "bc1e0cb0",
   "metadata": {},
   "outputs": [],
   "source": [
    "df.columns= df.columns.str.strip()"
   ]
  },
  {
   "cell_type": "code",
   "execution_count": 5,
   "id": "7e8d78b5",
   "metadata": {
    "scrolled": true
   },
   "outputs": [
    {
     "data": {
      "text/html": [
       "<div>\n",
       "<style scoped>\n",
       "    .dataframe tbody tr th:only-of-type {\n",
       "        vertical-align: middle;\n",
       "    }\n",
       "\n",
       "    .dataframe tbody tr th {\n",
       "        vertical-align: top;\n",
       "    }\n",
       "\n",
       "    .dataframe thead th {\n",
       "        text-align: right;\n",
       "    }\n",
       "</style>\n",
       "<table border=\"1\" class=\"dataframe\">\n",
       "  <thead>\n",
       "    <tr style=\"text-align: right;\">\n",
       "      <th></th>\n",
       "      <th>Date</th>\n",
       "      <th>series</th>\n",
       "      <th>OPEN</th>\n",
       "      <th>HIGH</th>\n",
       "      <th>LOW</th>\n",
       "      <th>PREV. CLOSE</th>\n",
       "      <th>ltp</th>\n",
       "      <th>close</th>\n",
       "      <th>vwap</th>\n",
       "      <th>52W H</th>\n",
       "      <th>52W L</th>\n",
       "      <th>VOLUME</th>\n",
       "      <th>VALUE</th>\n",
       "      <th>No of trades</th>\n",
       "    </tr>\n",
       "  </thead>\n",
       "  <tbody>\n",
       "    <tr>\n",
       "      <th>247</th>\n",
       "      <td>2022-08-29</td>\n",
       "      <td>EQ</td>\n",
       "      <td>2,585.00</td>\n",
       "      <td>2,655.00</td>\n",
       "      <td>2,578.05</td>\n",
       "      <td>2,618.00</td>\n",
       "      <td>2,600.00</td>\n",
       "      <td>2,597.65</td>\n",
       "      <td>2,614.34</td>\n",
       "      <td>2,856.15</td>\n",
       "      <td>2,180.00</td>\n",
       "      <td>9,155,684</td>\n",
       "      <td>23,936,068,091.80</td>\n",
       "      <td>326,003</td>\n",
       "    </tr>\n",
       "    <tr>\n",
       "      <th>246</th>\n",
       "      <td>2022-08-30</td>\n",
       "      <td>EQ</td>\n",
       "      <td>2,614.00</td>\n",
       "      <td>2,645.25</td>\n",
       "      <td>2,576.60</td>\n",
       "      <td>2,597.65</td>\n",
       "      <td>2,642.00</td>\n",
       "      <td>2,637.95</td>\n",
       "      <td>2,614.74</td>\n",
       "      <td>2,856.15</td>\n",
       "      <td>2,180.00</td>\n",
       "      <td>10,678,670</td>\n",
       "      <td>27,921,981,356.70</td>\n",
       "      <td>285,656</td>\n",
       "    </tr>\n",
       "    <tr>\n",
       "      <th>245</th>\n",
       "      <td>2022-09-01</td>\n",
       "      <td>EQ</td>\n",
       "      <td>2,582.65</td>\n",
       "      <td>2,604.95</td>\n",
       "      <td>2,550.70</td>\n",
       "      <td>2,637.95</td>\n",
       "      <td>2,564.00</td>\n",
       "      <td>2,560.40</td>\n",
       "      <td>2,580.13</td>\n",
       "      <td>2,856.15</td>\n",
       "      <td>2,180.00</td>\n",
       "      <td>9,188,434</td>\n",
       "      <td>23,707,362,824.55</td>\n",
       "      <td>346,414</td>\n",
       "    </tr>\n",
       "    <tr>\n",
       "      <th>244</th>\n",
       "      <td>2022-09-02</td>\n",
       "      <td>EQ</td>\n",
       "      <td>2,560.40</td>\n",
       "      <td>2,575.35</td>\n",
       "      <td>2,525.70</td>\n",
       "      <td>2,560.40</td>\n",
       "      <td>2,527.95</td>\n",
       "      <td>2,530.50</td>\n",
       "      <td>2,546.24</td>\n",
       "      <td>2,856.15</td>\n",
       "      <td>2,180.00</td>\n",
       "      <td>5,999,196</td>\n",
       "      <td>15,275,378,547.55</td>\n",
       "      <td>266,158</td>\n",
       "    </tr>\n",
       "    <tr>\n",
       "      <th>243</th>\n",
       "      <td>2022-09-05</td>\n",
       "      <td>EQ</td>\n",
       "      <td>2,531.00</td>\n",
       "      <td>2,581.50</td>\n",
       "      <td>2,531.00</td>\n",
       "      <td>2,530.50</td>\n",
       "      <td>2,567.15</td>\n",
       "      <td>2,569.80</td>\n",
       "      <td>2,563.92</td>\n",
       "      <td>2,856.15</td>\n",
       "      <td>2,180.00</td>\n",
       "      <td>5,227,785</td>\n",
       "      <td>13,403,622,183.40</td>\n",
       "      <td>189,614</td>\n",
       "    </tr>\n",
       "    <tr>\n",
       "      <th>...</th>\n",
       "      <td>...</td>\n",
       "      <td>...</td>\n",
       "      <td>...</td>\n",
       "      <td>...</td>\n",
       "      <td>...</td>\n",
       "      <td>...</td>\n",
       "      <td>...</td>\n",
       "      <td>...</td>\n",
       "      <td>...</td>\n",
       "      <td>...</td>\n",
       "      <td>...</td>\n",
       "      <td>...</td>\n",
       "      <td>...</td>\n",
       "      <td>...</td>\n",
       "    </tr>\n",
       "    <tr>\n",
       "      <th>4</th>\n",
       "      <td>2023-08-22</td>\n",
       "      <td>EQ</td>\n",
       "      <td>2,516.90</td>\n",
       "      <td>2,537.95</td>\n",
       "      <td>2,499.00</td>\n",
       "      <td>2,520.00</td>\n",
       "      <td>2,523.00</td>\n",
       "      <td>2,519.40</td>\n",
       "      <td>2,522.49</td>\n",
       "      <td>2,630.95</td>\n",
       "      <td>2,458.05</td>\n",
       "      <td>3,856,522</td>\n",
       "      <td>9,728,035,039.30</td>\n",
       "      <td>234,127</td>\n",
       "    </tr>\n",
       "    <tr>\n",
       "      <th>3</th>\n",
       "      <td>2023-08-23</td>\n",
       "      <td>EQ</td>\n",
       "      <td>2,524.20</td>\n",
       "      <td>2,542.85</td>\n",
       "      <td>2,516.95</td>\n",
       "      <td>2,519.40</td>\n",
       "      <td>2,518.20</td>\n",
       "      <td>2,522.20</td>\n",
       "      <td>2,528.38</td>\n",
       "      <td>2,630.95</td>\n",
       "      <td>2,458.05</td>\n",
       "      <td>4,758,976</td>\n",
       "      <td>12,032,500,977.45</td>\n",
       "      <td>186,890</td>\n",
       "    </tr>\n",
       "    <tr>\n",
       "      <th>2</th>\n",
       "      <td>2023-08-24</td>\n",
       "      <td>EQ</td>\n",
       "      <td>2,539.90</td>\n",
       "      <td>2,539.90</td>\n",
       "      <td>2,471.00</td>\n",
       "      <td>2,522.20</td>\n",
       "      <td>2,475.80</td>\n",
       "      <td>2,479.80</td>\n",
       "      <td>2,505.26</td>\n",
       "      <td>2,630.95</td>\n",
       "      <td>2,458.05</td>\n",
       "      <td>7,070,010</td>\n",
       "      <td>17,712,228,152.35</td>\n",
       "      <td>277,360</td>\n",
       "    </tr>\n",
       "    <tr>\n",
       "      <th>1</th>\n",
       "      <td>2023-08-25</td>\n",
       "      <td>EQ</td>\n",
       "      <td>2,456.00</td>\n",
       "      <td>2,505.00</td>\n",
       "      <td>2,442.60</td>\n",
       "      <td>2,479.80</td>\n",
       "      <td>2,461.90</td>\n",
       "      <td>2,468.35</td>\n",
       "      <td>2,475.31</td>\n",
       "      <td>2,630.95</td>\n",
       "      <td>2,442.60</td>\n",
       "      <td>11,111,200</td>\n",
       "      <td>27,503,665,768.50</td>\n",
       "      <td>309,987</td>\n",
       "    </tr>\n",
       "    <tr>\n",
       "      <th>0</th>\n",
       "      <td>2023-08-28</td>\n",
       "      <td>EQ</td>\n",
       "      <td>2,472.00</td>\n",
       "      <td>2,484.00</td>\n",
       "      <td>2,431.10</td>\n",
       "      <td>2,468.35</td>\n",
       "      <td>2,436.95</td>\n",
       "      <td>2,443.75</td>\n",
       "      <td>2,465.38</td>\n",
       "      <td>2,630.95</td>\n",
       "      <td>2,431.10</td>\n",
       "      <td>6,290,413</td>\n",
       "      <td>15,508,240,986.20</td>\n",
       "      <td>248,985</td>\n",
       "    </tr>\n",
       "  </tbody>\n",
       "</table>\n",
       "<p>248 rows × 14 columns</p>\n",
       "</div>"
      ],
      "text/plain": [
       "          Date series      OPEN      HIGH       LOW PREV. CLOSE       ltp  \\\n",
       "247 2022-08-29     EQ  2,585.00  2,655.00  2,578.05    2,618.00  2,600.00   \n",
       "246 2022-08-30     EQ  2,614.00  2,645.25  2,576.60    2,597.65  2,642.00   \n",
       "245 2022-09-01     EQ  2,582.65  2,604.95  2,550.70    2,637.95  2,564.00   \n",
       "244 2022-09-02     EQ  2,560.40  2,575.35  2,525.70    2,560.40  2,527.95   \n",
       "243 2022-09-05     EQ  2,531.00  2,581.50  2,531.00    2,530.50  2,567.15   \n",
       "..         ...    ...       ...       ...       ...         ...       ...   \n",
       "4   2023-08-22     EQ  2,516.90  2,537.95  2,499.00    2,520.00  2,523.00   \n",
       "3   2023-08-23     EQ  2,524.20  2,542.85  2,516.95    2,519.40  2,518.20   \n",
       "2   2023-08-24     EQ  2,539.90  2,539.90  2,471.00    2,522.20  2,475.80   \n",
       "1   2023-08-25     EQ  2,456.00  2,505.00  2,442.60    2,479.80  2,461.90   \n",
       "0   2023-08-28     EQ  2,472.00  2,484.00  2,431.10    2,468.35  2,436.95   \n",
       "\n",
       "        close      vwap     52W H     52W L      VOLUME              VALUE  \\\n",
       "247  2,597.65  2,614.34  2,856.15  2,180.00   9,155,684  23,936,068,091.80   \n",
       "246  2,637.95  2,614.74  2,856.15  2,180.00  10,678,670  27,921,981,356.70   \n",
       "245  2,560.40  2,580.13  2,856.15  2,180.00   9,188,434  23,707,362,824.55   \n",
       "244  2,530.50  2,546.24  2,856.15  2,180.00   5,999,196  15,275,378,547.55   \n",
       "243  2,569.80  2,563.92  2,856.15  2,180.00   5,227,785  13,403,622,183.40   \n",
       "..        ...       ...       ...       ...         ...                ...   \n",
       "4    2,519.40  2,522.49  2,630.95  2,458.05   3,856,522   9,728,035,039.30   \n",
       "3    2,522.20  2,528.38  2,630.95  2,458.05   4,758,976  12,032,500,977.45   \n",
       "2    2,479.80  2,505.26  2,630.95  2,458.05   7,070,010  17,712,228,152.35   \n",
       "1    2,468.35  2,475.31  2,630.95  2,442.60  11,111,200  27,503,665,768.50   \n",
       "0    2,443.75  2,465.38  2,630.95  2,431.10   6,290,413  15,508,240,986.20   \n",
       "\n",
       "    No of trades  \n",
       "247      326,003  \n",
       "246      285,656  \n",
       "245      346,414  \n",
       "244      266,158  \n",
       "243      189,614  \n",
       "..           ...  \n",
       "4        234,127  \n",
       "3        186,890  \n",
       "2        277,360  \n",
       "1        309,987  \n",
       "0        248,985  \n",
       "\n",
       "[248 rows x 14 columns]"
      ]
     },
     "execution_count": 5,
     "metadata": {},
     "output_type": "execute_result"
    }
   ],
   "source": [
    "df['Date']=pd.to_datetime(df['Date'], format='%d-%b-%y')\n",
    "df= df.sort_values(by='Date',ascending=True)\n",
    "df"
   ]
  },
  {
   "cell_type": "code",
   "execution_count": 7,
   "id": "eab9fe70",
   "metadata": {
    "collapsed": true
   },
   "outputs": [],
   "source": [
    "numeric_columns = ['OPEN', 'HIGH', 'LOW', 'close', 'VOLUME']\n",
    "for col in numeric_columns:\n",
    "    df[col] = df[col].str.replace(',', '').astype(float)"
   ]
  },
  {
   "cell_type": "code",
   "execution_count": 8,
   "id": "3f96ad35",
   "metadata": {},
   "outputs": [],
   "source": [
    "df['Next_Open'] = df['OPEN'].shift(-1)\n",
    "df.dropna(inplace=True)"
   ]
  },
  {
   "cell_type": "code",
   "execution_count": 9,
   "id": "686a80d5",
   "metadata": {
    "collapsed": true
   },
   "outputs": [
    {
     "data": {
      "text/html": [
       "<div>\n",
       "<style scoped>\n",
       "    .dataframe tbody tr th:only-of-type {\n",
       "        vertical-align: middle;\n",
       "    }\n",
       "\n",
       "    .dataframe tbody tr th {\n",
       "        vertical-align: top;\n",
       "    }\n",
       "\n",
       "    .dataframe thead th {\n",
       "        text-align: right;\n",
       "    }\n",
       "</style>\n",
       "<table border=\"1\" class=\"dataframe\">\n",
       "  <thead>\n",
       "    <tr style=\"text-align: right;\">\n",
       "      <th></th>\n",
       "      <th>Date</th>\n",
       "      <th>series</th>\n",
       "      <th>OPEN</th>\n",
       "      <th>HIGH</th>\n",
       "      <th>LOW</th>\n",
       "      <th>PREV. CLOSE</th>\n",
       "      <th>ltp</th>\n",
       "      <th>close</th>\n",
       "      <th>vwap</th>\n",
       "      <th>52W H</th>\n",
       "      <th>52W L</th>\n",
       "      <th>VOLUME</th>\n",
       "      <th>VALUE</th>\n",
       "      <th>No of trades</th>\n",
       "      <th>Next_Open</th>\n",
       "    </tr>\n",
       "  </thead>\n",
       "  <tbody>\n",
       "    <tr>\n",
       "      <th>247</th>\n",
       "      <td>2022-08-29</td>\n",
       "      <td>EQ</td>\n",
       "      <td>2585.00</td>\n",
       "      <td>2655.00</td>\n",
       "      <td>2578.05</td>\n",
       "      <td>2,618.00</td>\n",
       "      <td>2,600.00</td>\n",
       "      <td>2597.65</td>\n",
       "      <td>2,614.34</td>\n",
       "      <td>2,856.15</td>\n",
       "      <td>2,180.00</td>\n",
       "      <td>9155684.0</td>\n",
       "      <td>23,936,068,091.80</td>\n",
       "      <td>326,003</td>\n",
       "      <td>2614.00</td>\n",
       "    </tr>\n",
       "    <tr>\n",
       "      <th>246</th>\n",
       "      <td>2022-08-30</td>\n",
       "      <td>EQ</td>\n",
       "      <td>2614.00</td>\n",
       "      <td>2645.25</td>\n",
       "      <td>2576.60</td>\n",
       "      <td>2,597.65</td>\n",
       "      <td>2,642.00</td>\n",
       "      <td>2637.95</td>\n",
       "      <td>2,614.74</td>\n",
       "      <td>2,856.15</td>\n",
       "      <td>2,180.00</td>\n",
       "      <td>10678670.0</td>\n",
       "      <td>27,921,981,356.70</td>\n",
       "      <td>285,656</td>\n",
       "      <td>2582.65</td>\n",
       "    </tr>\n",
       "    <tr>\n",
       "      <th>245</th>\n",
       "      <td>2022-09-01</td>\n",
       "      <td>EQ</td>\n",
       "      <td>2582.65</td>\n",
       "      <td>2604.95</td>\n",
       "      <td>2550.70</td>\n",
       "      <td>2,637.95</td>\n",
       "      <td>2,564.00</td>\n",
       "      <td>2560.40</td>\n",
       "      <td>2,580.13</td>\n",
       "      <td>2,856.15</td>\n",
       "      <td>2,180.00</td>\n",
       "      <td>9188434.0</td>\n",
       "      <td>23,707,362,824.55</td>\n",
       "      <td>346,414</td>\n",
       "      <td>2560.40</td>\n",
       "    </tr>\n",
       "    <tr>\n",
       "      <th>244</th>\n",
       "      <td>2022-09-02</td>\n",
       "      <td>EQ</td>\n",
       "      <td>2560.40</td>\n",
       "      <td>2575.35</td>\n",
       "      <td>2525.70</td>\n",
       "      <td>2,560.40</td>\n",
       "      <td>2,527.95</td>\n",
       "      <td>2530.50</td>\n",
       "      <td>2,546.24</td>\n",
       "      <td>2,856.15</td>\n",
       "      <td>2,180.00</td>\n",
       "      <td>5999196.0</td>\n",
       "      <td>15,275,378,547.55</td>\n",
       "      <td>266,158</td>\n",
       "      <td>2531.00</td>\n",
       "    </tr>\n",
       "    <tr>\n",
       "      <th>243</th>\n",
       "      <td>2022-09-05</td>\n",
       "      <td>EQ</td>\n",
       "      <td>2531.00</td>\n",
       "      <td>2581.50</td>\n",
       "      <td>2531.00</td>\n",
       "      <td>2,530.50</td>\n",
       "      <td>2,567.15</td>\n",
       "      <td>2569.80</td>\n",
       "      <td>2,563.92</td>\n",
       "      <td>2,856.15</td>\n",
       "      <td>2,180.00</td>\n",
       "      <td>5227785.0</td>\n",
       "      <td>13,403,622,183.40</td>\n",
       "      <td>189,614</td>\n",
       "      <td>2573.00</td>\n",
       "    </tr>\n",
       "    <tr>\n",
       "      <th>...</th>\n",
       "      <td>...</td>\n",
       "      <td>...</td>\n",
       "      <td>...</td>\n",
       "      <td>...</td>\n",
       "      <td>...</td>\n",
       "      <td>...</td>\n",
       "      <td>...</td>\n",
       "      <td>...</td>\n",
       "      <td>...</td>\n",
       "      <td>...</td>\n",
       "      <td>...</td>\n",
       "      <td>...</td>\n",
       "      <td>...</td>\n",
       "      <td>...</td>\n",
       "      <td>...</td>\n",
       "    </tr>\n",
       "    <tr>\n",
       "      <th>5</th>\n",
       "      <td>2023-08-21</td>\n",
       "      <td>EQ</td>\n",
       "      <td>2539.95</td>\n",
       "      <td>2555.45</td>\n",
       "      <td>2515.65</td>\n",
       "      <td>2,556.80</td>\n",
       "      <td>2,519.50</td>\n",
       "      <td>2520.00</td>\n",
       "      <td>2,528.76</td>\n",
       "      <td>2,630.95</td>\n",
       "      <td>2,458.05</td>\n",
       "      <td>4610873.0</td>\n",
       "      <td>11,659,793,136.25</td>\n",
       "      <td>186,604</td>\n",
       "      <td>2516.90</td>\n",
       "    </tr>\n",
       "    <tr>\n",
       "      <th>4</th>\n",
       "      <td>2023-08-22</td>\n",
       "      <td>EQ</td>\n",
       "      <td>2516.90</td>\n",
       "      <td>2537.95</td>\n",
       "      <td>2499.00</td>\n",
       "      <td>2,520.00</td>\n",
       "      <td>2,523.00</td>\n",
       "      <td>2519.40</td>\n",
       "      <td>2,522.49</td>\n",
       "      <td>2,630.95</td>\n",
       "      <td>2,458.05</td>\n",
       "      <td>3856522.0</td>\n",
       "      <td>9,728,035,039.30</td>\n",
       "      <td>234,127</td>\n",
       "      <td>2524.20</td>\n",
       "    </tr>\n",
       "    <tr>\n",
       "      <th>3</th>\n",
       "      <td>2023-08-23</td>\n",
       "      <td>EQ</td>\n",
       "      <td>2524.20</td>\n",
       "      <td>2542.85</td>\n",
       "      <td>2516.95</td>\n",
       "      <td>2,519.40</td>\n",
       "      <td>2,518.20</td>\n",
       "      <td>2522.20</td>\n",
       "      <td>2,528.38</td>\n",
       "      <td>2,630.95</td>\n",
       "      <td>2,458.05</td>\n",
       "      <td>4758976.0</td>\n",
       "      <td>12,032,500,977.45</td>\n",
       "      <td>186,890</td>\n",
       "      <td>2539.90</td>\n",
       "    </tr>\n",
       "    <tr>\n",
       "      <th>2</th>\n",
       "      <td>2023-08-24</td>\n",
       "      <td>EQ</td>\n",
       "      <td>2539.90</td>\n",
       "      <td>2539.90</td>\n",
       "      <td>2471.00</td>\n",
       "      <td>2,522.20</td>\n",
       "      <td>2,475.80</td>\n",
       "      <td>2479.80</td>\n",
       "      <td>2,505.26</td>\n",
       "      <td>2,630.95</td>\n",
       "      <td>2,458.05</td>\n",
       "      <td>7070010.0</td>\n",
       "      <td>17,712,228,152.35</td>\n",
       "      <td>277,360</td>\n",
       "      <td>2456.00</td>\n",
       "    </tr>\n",
       "    <tr>\n",
       "      <th>1</th>\n",
       "      <td>2023-08-25</td>\n",
       "      <td>EQ</td>\n",
       "      <td>2456.00</td>\n",
       "      <td>2505.00</td>\n",
       "      <td>2442.60</td>\n",
       "      <td>2,479.80</td>\n",
       "      <td>2,461.90</td>\n",
       "      <td>2468.35</td>\n",
       "      <td>2,475.31</td>\n",
       "      <td>2,630.95</td>\n",
       "      <td>2,442.60</td>\n",
       "      <td>11111200.0</td>\n",
       "      <td>27,503,665,768.50</td>\n",
       "      <td>309,987</td>\n",
       "      <td>2472.00</td>\n",
       "    </tr>\n",
       "  </tbody>\n",
       "</table>\n",
       "<p>247 rows × 15 columns</p>\n",
       "</div>"
      ],
      "text/plain": [
       "          Date series     OPEN     HIGH      LOW PREV. CLOSE       ltp  \\\n",
       "247 2022-08-29     EQ  2585.00  2655.00  2578.05    2,618.00  2,600.00   \n",
       "246 2022-08-30     EQ  2614.00  2645.25  2576.60    2,597.65  2,642.00   \n",
       "245 2022-09-01     EQ  2582.65  2604.95  2550.70    2,637.95  2,564.00   \n",
       "244 2022-09-02     EQ  2560.40  2575.35  2525.70    2,560.40  2,527.95   \n",
       "243 2022-09-05     EQ  2531.00  2581.50  2531.00    2,530.50  2,567.15   \n",
       "..         ...    ...      ...      ...      ...         ...       ...   \n",
       "5   2023-08-21     EQ  2539.95  2555.45  2515.65    2,556.80  2,519.50   \n",
       "4   2023-08-22     EQ  2516.90  2537.95  2499.00    2,520.00  2,523.00   \n",
       "3   2023-08-23     EQ  2524.20  2542.85  2516.95    2,519.40  2,518.20   \n",
       "2   2023-08-24     EQ  2539.90  2539.90  2471.00    2,522.20  2,475.80   \n",
       "1   2023-08-25     EQ  2456.00  2505.00  2442.60    2,479.80  2,461.90   \n",
       "\n",
       "       close      vwap     52W H     52W L      VOLUME              VALUE  \\\n",
       "247  2597.65  2,614.34  2,856.15  2,180.00   9155684.0  23,936,068,091.80   \n",
       "246  2637.95  2,614.74  2,856.15  2,180.00  10678670.0  27,921,981,356.70   \n",
       "245  2560.40  2,580.13  2,856.15  2,180.00   9188434.0  23,707,362,824.55   \n",
       "244  2530.50  2,546.24  2,856.15  2,180.00   5999196.0  15,275,378,547.55   \n",
       "243  2569.80  2,563.92  2,856.15  2,180.00   5227785.0  13,403,622,183.40   \n",
       "..       ...       ...       ...       ...         ...                ...   \n",
       "5    2520.00  2,528.76  2,630.95  2,458.05   4610873.0  11,659,793,136.25   \n",
       "4    2519.40  2,522.49  2,630.95  2,458.05   3856522.0   9,728,035,039.30   \n",
       "3    2522.20  2,528.38  2,630.95  2,458.05   4758976.0  12,032,500,977.45   \n",
       "2    2479.80  2,505.26  2,630.95  2,458.05   7070010.0  17,712,228,152.35   \n",
       "1    2468.35  2,475.31  2,630.95  2,442.60  11111200.0  27,503,665,768.50   \n",
       "\n",
       "    No of trades  Next_Open  \n",
       "247      326,003    2614.00  \n",
       "246      285,656    2582.65  \n",
       "245      346,414    2560.40  \n",
       "244      266,158    2531.00  \n",
       "243      189,614    2573.00  \n",
       "..           ...        ...  \n",
       "5        186,604    2516.90  \n",
       "4        234,127    2524.20  \n",
       "3        186,890    2539.90  \n",
       "2        277,360    2456.00  \n",
       "1        309,987    2472.00  \n",
       "\n",
       "[247 rows x 15 columns]"
      ]
     },
     "execution_count": 9,
     "metadata": {},
     "output_type": "execute_result"
    }
   ],
   "source": [
    "df"
   ]
  },
  {
   "cell_type": "code",
   "execution_count": 12,
   "id": "a6fe3f8f",
   "metadata": {},
   "outputs": [],
   "source": [
    "train_input = np.array(df.OPEN[0:200]).reshape(200,1)\n",
    "train_output = np.array(df.close[0:200]).reshape(200,1)\n",
    "\n",
    "test_input = np.array(df.OPEN[200:247]).reshape(47,1)\n",
    "test_output = np.array(df.close[200:247]).reshape(47,1)"
   ]
  },
  {
   "cell_type": "code",
   "execution_count": 15,
   "id": "73665834",
   "metadata": {},
   "outputs": [
    {
     "data": {
      "text/plain": [
       "[<matplotlib.lines.Line2D at 0x149dd7fa110>]"
      ]
     },
     "execution_count": 15,
     "metadata": {},
     "output_type": "execute_result"
    },
    {
     "data": {
      "image/png": "[encoded data removed]",
      "text/plain": [
       "<Figure size 640x480 with 1 Axes>"
      ]
     },
     "metadata": {},
     "output_type": "display_data"
    }
   ],
   "source": [
    "plt.plot(train_input, train_output, '+')"
   ]
  },
  {
   "cell_type": "code",
   "execution_count": 16,
   "id": "180e9d9d",
   "metadata": {},
   "outputs": [
    {
     "data": {
      "text/html": [
       "<style>#sk-container-id-1 {color: black;background-color: white;}#sk-container-id-1 pre{padding: 0;}#sk-container-id-1 div.sk-toggleable {background-color: white;}#sk-container-id-1 label.sk-toggleable__label {cursor: pointer;display: block;width: 100%;margin-bottom: 0;padding: 0.3em;box-sizing: border-box;text-align: center;}#sk-container-id-1 label.sk-toggleable__label-arrow:before {content: \"▸\";float: left;margin-right: 0.25em;color: #696969;}#sk-container-id-1 label.sk-toggleable__label-arrow:hover:before {color: black;}#sk-container-id-1 div.sk-estimator:hover label.sk-toggleable__label-arrow:before {color: black;}#sk-container-id-1 div.sk-toggleable__content {max-height: 0;max-width: 0;overflow: hidden;text-align: left;background-color: #f0f8ff;}#sk-container-id-1 div.sk-toggleable__content pre {margin: 0.2em;color: black;border-radius: 0.25em;background-color: #f0f8ff;}#sk-container-id-1 input.sk-toggleable__control:checked~div.sk-toggleable__content {max-height: 200px;max-width: 100%;overflow: auto;}#sk-container-id-1 input.sk-toggleable__control:checked~label.sk-toggleable__label-arrow:before {content: \"▾\";}#sk-container-id-1 div.sk-estimator input.sk-toggleable__control:checked~label.sk-toggleable__label {background-color: #d4ebff;}#sk-container-id-1 div.sk-label input.sk-toggleable__control:checked~label.sk-toggleable__label {background-color: #d4ebff;}#sk-container-id-1 input.sk-hidden--visually {border: 0;clip: rect(1px 1px 1px 1px);clip: rect(1px, 1px, 1px, 1px);height: 1px;margin: -1px;overflow: hidden;padding: 0;position: absolute;width: 1px;}#sk-container-id-1 div.sk-estimator {font-family: monospace;background-color: #f0f8ff;border: 1px dotted black;border-radius: 0.25em;box-sizing: border-box;margin-bottom: 0.5em;}#sk-container-id-1 div.sk-estimator:hover {background-color: #d4ebff;}#sk-container-id-1 div.sk-parallel-item::after {content: \"\";width: 100%;border-bottom: 1px solid gray;flex-grow: 1;}#sk-container-id-1 div.sk-label:hover label.sk-toggleable__label {background-color: #d4ebff;}#sk-container-id-1 div.sk-serial::before {content: \"\";position: absolute;border-left: 1px solid gray;box-sizing: border-box;top: 0;bottom: 0;left: 50%;z-index: 0;}#sk-container-id-1 div.sk-serial {display: flex;flex-direction: column;align-items: center;background-color: white;padding-right: 0.2em;padding-left: 0.2em;position: relative;}#sk-container-id-1 div.sk-item {position: relative;z-index: 1;}#sk-container-id-1 div.sk-parallel {display: flex;align-items: stretch;justify-content: center;background-color: white;position: relative;}#sk-container-id-1 div.sk-item::before, #sk-container-id-1 div.sk-parallel-item::before {content: \"\";position: absolute;border-left: 1px solid gray;box-sizing: border-box;top: 0;bottom: 0;left: 50%;z-index: -1;}#sk-container-id-1 div.sk-parallel-item {display: flex;flex-direction: column;z-index: 1;position: relative;background-color: white;}#sk-container-id-1 div.sk-parallel-item:first-child::after {align-self: flex-end;width: 50%;}#sk-container-id-1 div.sk-parallel-item:last-child::after {align-self: flex-start;width: 50%;}#sk-container-id-1 div.sk-parallel-item:only-child::after {width: 0;}#sk-container-id-1 div.sk-dashed-wrapped {border: 1px dashed gray;margin: 0 0.4em 0.5em 0.4em;box-sizing: border-box;padding-bottom: 0.4em;background-color: white;}#sk-container-id-1 div.sk-label label {font-family: monospace;font-weight: bold;display: inline-block;line-height: 1.2em;}#sk-container-id-1 div.sk-label-container {text-align: center;}#sk-container-id-1 div.sk-container {/* jupyter's `normalize.less` sets `[hidden] { display: none; }` but bootstrap.min.css set `[hidden] { display: none !important; }` so we also need the `!important` here to be able to override the default hidden behavior on the sphinx rendered scikit-learn.org. See: https://github.com/scikit-learn/scikit-learn/issues/21755 */display: inline-block !important;position: relative;}#sk-container-id-1 div.sk-text-repr-fallback {display: none;}</style><div id=\"sk-container-id-1\" class=\"sk-top-container\"><div class=\"sk-text-repr-fallback\"><pre>LinearRegression()</pre><b>In a Jupyter environment, please rerun this cell to show the HTML representation or trust the notebook. <br />On GitHub, the HTML representation is unable to render, please try loading this page with nbviewer.org.</b></div><div class=\"sk-container\" hidden><div class=\"sk-item\"><div class=\"sk-estimator sk-toggleable\"><input class=\"sk-toggleable__control sk-hidden--visually\" id=\"sk-estimator-id-1\" type=\"checkbox\" checked><label for=\"sk-estimator-id-1\" class=\"sk-toggleable__label sk-toggleable__label-arrow\">LinearRegression</label><div class=\"sk-toggleable__content\"><pre>LinearRegression()</pre></div></div></div></div></div>"
      ],
      "text/plain": [
       "LinearRegression()"
      ]
     },
     "execution_count": 16,
     "metadata": {},
     "output_type": "execute_result"
    }
   ],
   "source": [
    "ref=linear_model.LinearRegression()\n",
    "ref.fit(train_input,train_output)"
   ]
  },
  {
   "cell_type": "code",
   "execution_count": 22,
   "id": "16280001",
   "metadata": {
    "scrolled": false
   },
   "outputs": [],
   "source": [
    "test_predictions=ref.predict(test_input)"
   ]
  },
  {
   "cell_type": "code",
   "execution_count": 32,
   "id": "0a635614",
   "metadata": {},
   "outputs": [
    {
     "data": {
      "text/plain": [
       "array([[2543.91407372],\n",
       "       [2553.24923781],\n",
       "       [2552.26138976],\n",
       "       [2525.49070755],\n",
       "       [2503.85683522],\n",
       "       [2493.53382307],\n",
       "       [2509.78392353],\n",
       "       [2542.77804846],\n",
       "       [2554.28647826],\n",
       "       [2620.42290534],\n",
       "       [2604.61733651],\n",
       "       [2572.0677432 ],\n",
       "       [2630.30138586],\n",
       "       [2683.54639585],\n",
       "       [2746.76867117],\n",
       "       [2760.00583507],\n",
       "       [2777.39196078],\n",
       "       [2743.90391182],\n",
       "       [2740.94036767],\n",
       "       [2810.0897313 ],\n",
       "       [2822.93175597],\n",
       "       [2575.969743  ],\n",
       "       [2604.61733651],\n",
       "       [2478.17278587],\n",
       "       [2491.01481054],\n",
       "       [2482.12417808],\n",
       "       [2530.57812502],\n",
       "       [2508.84546788],\n",
       "       [2524.4534671 ],\n",
       "       [2551.27354171],\n",
       "       [2506.03010093],\n",
       "       [2472.54205197],\n",
       "       [2495.75648119],\n",
       "       [2517.68670794],\n",
       "       [2524.60164431],\n",
       "       [2501.73296191],\n",
       "       [2521.58870775],\n",
       "       [2528.99756814],\n",
       "       [2535.46797288],\n",
       "       [2547.3221495 ],\n",
       "       [2563.22650313],\n",
       "       [2527.81215047],\n",
       "       [2536.40642853],\n",
       "       [2513.63653093],\n",
       "       [2520.84782171],\n",
       "       [2536.35703612],\n",
       "       [2453.47658457]])"
      ]
     },
     "execution_count": 32,
     "metadata": {},
     "output_type": "execute_result"
    }
   ],
   "source": [
    "test_predictions"
   ]
  },
  {
   "cell_type": "code",
   "execution_count": 36,
   "id": "241fdd33",
   "metadata": {},
   "outputs": [
    {
     "data": {
      "text/plain": [
       "array([[2449.52519236]])"
      ]
     },
     "execution_count": 36,
     "metadata": {},
     "output_type": "execute_result"
    }
   ],
   "source": [
    "ref.predict([[2452]])"
   ]
  },
  {
   "cell_type": "code",
   "execution_count": 27,
   "id": "b81de54c",
   "metadata": {},
   "outputs": [
    {
     "data": {
      "image/png": "[encoded data removed]",
      "text/plain": [
       "<Figure size 640x480 with 1 Axes>"
      ]
     },
     "metadata": {},
     "output_type": "display_data"
    }
   ],
   "source": [
    "plt.plot(train_input, train_output, '+',label='Actual Data')\n",
    "plt.plot(test_input, test_predictions, color='red', linewidth=2, label='Regression Line')\n",
    "plt.xlabel('Input')\n",
    "plt.ylabel('Output')\n",
    "plt.title('Linear Regression Prediction')\n",
    "plt.legend()\n",
    "plt.show()"
   ]
  },
  {
   "cell_type": "code",
   "execution_count": 28,
   "id": "8ab2675e",
   "metadata": {},
   "outputs": [],
   "source": [
    "mse = mean_squared_error(test_output, test_predictions)\n",
    "r2 = r2_score(test_output, test_predictions)"
   ]
  },
  {
   "cell_type": "code",
   "execution_count": 31,
   "id": "2bebc6ec",
   "metadata": {},
   "outputs": [
    {
     "name": "stdout",
     "output_type": "stream",
     "text": [
      "Mean Square vaue 848.466813428274\n",
      "R square 0.9138786632629968\n"
     ]
    }
   ],
   "source": [
    "print(\"Mean Square vaue\",mse)\n",
    "print(\"R square\",r2)"
   ]
  },
  {
   "cell_type": "code",
   "execution_count": 33,
   "id": "190018e5",
   "metadata": {},
   "outputs": [
    {
     "data": {
      "application/vnd.plotly.v1+json": {
       "config": {
        "plotlyServerURL": "https://plot.ly"
       },
       "data": [
        {
         "close": [
          2597.65,
          2637.95,
          2560.4,
          2530.5,
          2569.8,
          2596.85,
          2581.75,
          2585.4,
          2569.3,
          2598.05,
          2619.75,
          2588.35,
          2562.7,
          2499.2,
          2502.45,
          2502.85,
          2509.75,
          2486.1,
          2439.5,
          2377.35,
          2396.25,
          2332.45,
          2325.3,
          2377.75,
          2369.5,
          2413.2,
          2422.1,
          2432.35,
          2405.8,
          2357.9,
          2375.25,
          2382.8,
          2370.7,
          2408.75,
          2451.25,
          2493.9,
          2500.6,
          2471.6,
          2479.85,
          2441.55,
          2451.15,
          2526.15,
          2549.6,
          2529.85,
          2545.65,
          2555.15,
          2592.75,
          2606.6,
          2604,
          2572.5,
          2631.8,
          2619.05,
          2607.3,
          2592.35,
          2599.05,
          2597.65,
          2550.9,
          2565.05,
          2557.05,
          2579.1,
          2617.6,
          2707.55,
          2712.2,
          2731.35,
          2723.3,
          2722.15,
          2682.45,
          2690.2,
          2650.5,
          2649.25,
          2609.1,
          2613.1,
          2625,
          2615.5,
          2578.35,
          2565.6,
          2599.3,
          2621.8,
          2584.5,
          2577.8,
          2502.2,
          2524.05,
          2544.7,
          2544.45,
          2543.3,
          2547.2,
          2575.9,
          2557.05,
          2518.55,
          2514.05,
          2536.9,
          2596.8,
          2558.4,
          2526.15,
          2471.6,
          2467.6,
          2444.1,
          2478.8,
          2474.7,
          2472.05,
          2442.65,
          2430.3,
          2415.95,
          2382.55,
          2337.35,
          2359.75,
          2353.85,
          2339.9,
          2326.95,
          2329,
          2311.45,
          2305.9,
          2351.95,
          2356.05,
          2336.65,
          2323.35,
          2378.1,
          2431.95,
          2430.05,
          2440.2,
          2414.4,
          2434.1,
          2378.9,
          2367.5,
          2383.7,
          2367.85,
          2322.55,
          2343.9,
          2326.05,
          2385.4,
          2408.7,
          2417.35,
          2359.25,
          2322.7,
          2284.5,
          2275.95,
          2237.05,
          2225.9,
          2223.1,
          2201.25,
          2269.7,
          2276.6,
          2247.8,
          2203.3,
          2237.55,
          2248,
          2234.7,
          2331.05,
          2331.45,
          2325.85,
          2341.45,
          2324.85,
          2336.35,
          2346.65,
          2355.5,
          2367.45,
          2340.35,
          2352,
          2346.05,
          2349,
          2358,
          2376.05,
          2362.1,
          2377.05,
          2420.5,
          2441.05,
          2420.1,
          2448,
          2441.75,
          2471.9,
          2479.55,
          2496.6,
          2480.3,
          2484.35,
          2489.25,
          2453.8,
          2439.3,
          2434.05,
          2441.95,
          2455,
          2454.55,
          2440.25,
          2439.95,
          2506.5,
          2520.6,
          2519.95,
          2469.9,
          2463.25,
          2455.2,
          2477.25,
          2479.35,
          2498.15,
          2499.65,
          2481.95,
          2484.15,
          2520.85,
          2551.85,
          2552.55,
          2577.4,
          2551.8,
          2557.1,
          2564.3,
          2535.5,
          2514.75,
          2495.55,
          2496.45,
          2529.5,
          2550.25,
          2615.7,
          2588.75,
          2584.5,
          2638.75,
          2633.6,
          2735.05,
          2764.7,
          2767.75,
          2743,
          2740.7,
          2796.7,
          2820.45,
          2841.85,
          2619.85,
          2538.75,
          2487.4,
          2485.8,
          2526.2,
          2502.7,
          2527.85,
          2549.25,
          2513.2,
          2486.35,
          2475.9,
          2509.55,
          2523.85,
          2508.65,
          2525.2,
          2536.45,
          2547.15,
          2577.25,
          2575.15,
          2538,
          2556.8,
          2520,
          2519.4,
          2522.2,
          2479.8,
          2468.35
         ],
         "high": [
          2655,
          2645.25,
          2604.95,
          2575.35,
          2581.5,
          2606,
          2594.9,
          2598,
          2610,
          2612,
          2629.7,
          2610,
          2603.55,
          2553,
          2522.7,
          2537.7,
          2533,
          2503,
          2495.95,
          2417.8,
          2426,
          2378,
          2367.5,
          2402,
          2416.95,
          2418,
          2450,
          2443.9,
          2417.6,
          2414,
          2381.7,
          2394,
          2416.35,
          2414,
          2463,
          2527.85,
          2519,
          2516.8,
          2502.5,
          2499,
          2468.45,
          2535,
          2560.95,
          2600,
          2550.2,
          2559.55,
          2600,
          2610.3,
          2621.95,
          2596.55,
          2636,
          2642,
          2626.4,
          2615.95,
          2613,
          2609,
          2588,
          2568.5,
          2577.9,
          2594,
          2624.9,
          2721.05,
          2731.65,
          2745.45,
          2755,
          2748,
          2716.75,
          2697,
          2695,
          2665,
          2660,
          2623,
          2633,
          2638.95,
          2615,
          2618.8,
          2604,
          2626,
          2633,
          2604.65,
          2590.5,
          2542,
          2548.8,
          2549.8,
          2548.9,
          2577,
          2579,
          2573,
          2561.05,
          2536.4,
          2547.95,
          2602,
          2606,
          2558,
          2532.5,
          2472.9,
          2479.65,
          2483,
          2491.1,
          2481.15,
          2475,
          2466.2,
          2443.65,
          2414.7,
          2387.35,
          2371.9,
          2387.65,
          2379.95,
          2348,
          2349,
          2321,
          2327.4,
          2359.9,
          2370.85,
          2354.9,
          2350,
          2381.9,
          2437.2,
          2463.8,
          2447.5,
          2449.75,
          2446.8,
          2430,
          2394.75,
          2396.15,
          2389.65,
          2367,
          2345.5,
          2351.65,
          2393.45,
          2424.6,
          2419,
          2416.9,
          2344,
          2344,
          2304.95,
          2298.3,
          2254,
          2251.95,
          2220,
          2274,
          2291.45,
          2269.9,
          2250,
          2254,
          2256.5,
          2244.8,
          2343.45,
          2349,
          2348,
          2354,
          2350.4,
          2341,
          2367.8,
          2365.8,
          2424.95,
          2377,
          2357.9,
          2359,
          2361,
          2380.9,
          2380.6,
          2386.1,
          2384,
          2423.9,
          2445.8,
          2445,
          2452.85,
          2461.35,
          2483.65,
          2486.8,
          2499.85,
          2509.5,
          2487.4,
          2504.55,
          2499.6,
          2465,
          2457,
          2445.95,
          2466,
          2468,
          2464,
          2449,
          2509,
          2530,
          2537.7,
          2509.85,
          2484.9,
          2482.85,
          2483.75,
          2487.7,
          2500,
          2516.85,
          2508.55,
          2489.2,
          2523.45,
          2555,
          2562.55,
          2582.4,
          2584,
          2564,
          2569.85,
          2573.3,
          2533.4,
          2515.4,
          2509.5,
          2537.85,
          2556.65,
          2622,
          2625,
          2609,
          2644.45,
          2664.95,
          2756,
          2770,
          2802,
          2799,
          2760.9,
          2815.05,
          2837.45,
          2856,
          2630.95,
          2614.9,
          2514.95,
          2505.2,
          2547,
          2537.65,
          2542.85,
          2553.9,
          2559,
          2512,
          2500.9,
          2516,
          2528.4,
          2534.45,
          2529,
          2550,
          2558.85,
          2582.3,
          2582.8,
          2578.1,
          2577.6,
          2555.45,
          2537.95,
          2542.85,
          2539.9,
          2505
         ],
         "low": [
          2578.05,
          2576.6,
          2550.7,
          2525.7,
          2531,
          2572,
          2570,
          2571,
          2564,
          2570.55,
          2601,
          2572.75,
          2556.75,
          2491,
          2481.35,
          2494.7,
          2495,
          2472.1,
          2436.1,
          2375.15,
          2360.1,
          2327.1,
          2313,
          2311,
          2363,
          2390.15,
          2418.15,
          2414.65,
          2388,
          2351.1,
          2343.1,
          2360.1,
          2369.1,
          2343.6,
          2420.15,
          2441.7,
          2485,
          2467,
          2455.3,
          2438,
          2432.8,
          2459.45,
          2532.2,
          2508,
          2515,
          2525.05,
          2551.1,
          2574,
          2590.05,
          2563,
          2588,
          2605.15,
          2590,
          2581.35,
          2580,
          2571.1,
          2543.1,
          2536.5,
          2552.25,
          2548.2,
          2582.1,
          2502,
          2694,
          2698.2,
          2716,
          2700.6,
          2678,
          2661,
          2642.15,
          2640.1,
          2601.85,
          2585,
          2606.7,
          2611,
          2571,
          2558.15,
          2566.7,
          2566,
          2576.1,
          2566.75,
          2492.25,
          2492.4,
          2515.25,
          2521.5,
          2525.5,
          2541.1,
          2548.2,
          2547.8,
          2514,
          2504,
          2518.3,
          2543.35,
          2546,
          2521.1,
          2465,
          2434.6,
          2427,
          2450.6,
          2460.35,
          2456.65,
          2437.25,
          2425,
          2387.35,
          2380,
          2311.65,
          2301,
          2341,
          2305,
          2311,
          2293,
          2305.8,
          2293,
          2307,
          2334,
          2321.3,
          2313.55,
          2323.65,
          2373,
          2425.05,
          2410.6,
          2410.1,
          2412.35,
          2375.05,
          2361.35,
          2368,
          2351.7,
          2313.65,
          2323.25,
          2321.6,
          2341.55,
          2400,
          2385,
          2355.1,
          2315.05,
          2275,
          2269.05,
          2227.4,
          2202.2,
          2212.7,
          2180,
          2217,
          2270,
          2243.05,
          2198,
          2200.2,
          2237,
          2211.1,
          2254.7,
          2315,
          2308.55,
          2318.15,
          2321.55,
          2324.05,
          2330.05,
          2342,
          2349.05,
          2326,
          2332.2,
          2332.1,
          2336.4,
          2348,
          2350.5,
          2354.05,
          2364,
          2381.75,
          2428.1,
          2413.05,
          2414.6,
          2436,
          2444.15,
          2463.25,
          2481.2,
          2476.55,
          2456.5,
          2473.15,
          2450.15,
          2429,
          2427.15,
          2418.85,
          2432.35,
          2451.45,
          2433.45,
          2416.05,
          2450.75,
          2507.2,
          2514.35,
          2461,
          2458,
          2451,
          2458.45,
          2462,
          2472.6,
          2491,
          2478,
          2465,
          2486.25,
          2517,
          2535.5,
          2560.2,
          2542.65,
          2535,
          2548,
          2532,
          2512,
          2488.7,
          2486.65,
          2497.85,
          2533.45,
          2555.35,
          2573.25,
          2575.8,
          2576.05,
          2628,
          2675,
          2737.6,
          2761.65,
          2737.25,
          2725.1,
          2728,
          2793,
          2797,
          2580,
          2523.6,
          2469.3,
          2480,
          2485,
          2490.35,
          2500.55,
          2517.95,
          2505.3,
          2463.6,
          2458.05,
          2471.6,
          2505,
          2499.55,
          2481.1,
          2508.45,
          2512.35,
          2525,
          2551,
          2532.85,
          2508.55,
          2515.65,
          2499,
          2516.95,
          2471,
          2442.6
         ],
         "open": [
          2585,
          2614,
          2582.65,
          2560.4,
          2531,
          2573,
          2575,
          2588.25,
          2610,
          2570.55,
          2618,
          2575,
          2583,
          2543.75,
          2499.2,
          2522.45,
          2496.75,
          2486,
          2485,
          2394.05,
          2394,
          2360.35,
          2360,
          2311,
          2391.5,
          2397.8,
          2429,
          2414.65,
          2405,
          2414,
          2352,
          2371.4,
          2415,
          2355,
          2422,
          2454.5,
          2485,
          2507.7,
          2460,
          2499,
          2458,
          2465,
          2541,
          2600,
          2532.3,
          2529.85,
          2553.9,
          2591,
          2610.3,
          2590,
          2600,
          2630.75,
          2622.3,
          2610,
          2584.95,
          2606.75,
          2588,
          2545,
          2575,
          2566,
          2589,
          2608.9,
          2703.95,
          2712.5,
          2741.8,
          2730,
          2712,
          2665.1,
          2685,
          2660,
          2646,
          2585.5,
          2613.1,
          2637.65,
          2602.5,
          2571,
          2581,
          2583.9,
          2621,
          2598,
          2563.3,
          2514.75,
          2530,
          2538,
          2527,
          2545.1,
          2550,
          2565.05,
          2557,
          2523.5,
          2526.65,
          2545.3,
          2606,
          2552.5,
          2524.85,
          2458.4,
          2472.7,
          2458,
          2473.5,
          2472.9,
          2475,
          2449,
          2440,
          2412.45,
          2384.4,
          2331.7,
          2382,
          2379.95,
          2318,
          2349,
          2315,
          2312,
          2313,
          2353.45,
          2354.9,
          2340.2,
          2329.95,
          2376,
          2449.45,
          2420,
          2445,
          2424,
          2425.95,
          2378,
          2372,
          2382,
          2356.1,
          2344,
          2337,
          2349.15,
          2400,
          2408.7,
          2416,
          2341.5,
          2329,
          2280,
          2284.1,
          2243,
          2244.75,
          2215,
          2218.95,
          2285,
          2268,
          2245.25,
          2217.5,
          2245,
          2239,
          2255,
          2345,
          2348,
          2318.15,
          2350,
          2334,
          2336.35,
          2353,
          2424.95,
          2377,
          2339.05,
          2354.1,
          2350.65,
          2375,
          2366,
          2379,
          2375,
          2382,
          2436.2,
          2445,
          2421.15,
          2441,
          2450,
          2475,
          2490,
          2498.95,
          2469.8,
          2489.9,
          2494,
          2463,
          2449.55,
          2434.05,
          2435,
          2460.65,
          2445.9,
          2433.9,
          2458,
          2521,
          2520.6,
          2500,
          2480.15,
          2471,
          2467.2,
          2483.45,
          2487,
          2506,
          2507,
          2475.5,
          2495,
          2521,
          2551.8,
          2560.2,
          2584,
          2547.55,
          2557,
          2556,
          2528.9,
          2507,
          2496.55,
          2513,
          2546.4,
          2558.05,
          2625,
          2609,
          2576.05,
          2635,
          2688.9,
          2752.9,
          2766.3,
          2783.9,
          2750,
          2747,
          2817,
          2830,
          2580,
          2609,
          2481,
          2494,
          2485,
          2534.05,
          2512.05,
          2527.85,
          2555,
          2509.2,
          2475.3,
          2498.8,
          2521,
          2528,
          2504.85,
          2524.95,
          2532.45,
          2539,
          2551,
          2567.1,
          2531.25,
          2539.95,
          2516.9,
          2524.2,
          2539.9,
          2456
         ],
         "type": "candlestick",
         "x": [
          247,
          246,
          245,
          244,
          243,
          242,
          241,
          240,
          239,
          238,
          237,
          236,
          235,
          234,
          233,
          232,
          231,
          230,
          229,
          228,
          227,
          226,
          225,
          224,
          223,
          222,
          221,
          220,
          219,
          218,
          217,
          216,
          215,
          214,
          213,
          212,
          211,
          210,
          209,
          208,
          207,
          206,
          205,
          204,
          203,
          202,
          201,
          200,
          199,
          198,
          197,
          196,
          195,
          194,
          193,
          192,
          191,
          190,
          189,
          188,
          187,
          186,
          185,
          184,
          183,
          182,
          181,
          180,
          179,
          178,
          177,
          176,
          175,
          174,
          173,
          172,
          171,
          170,
          169,
          168,
          167,
          166,
          165,
          164,
          163,
          162,
          161,
          160,
          159,
          158,
          157,
          156,
          155,
          154,
          153,
          152,
          151,
          150,
          149,
          148,
          147,
          146,
          145,
          144,
          143,
          142,
          141,
          140,
          139,
          138,
          137,
          136,
          135,
          134,
          133,
          132,
          131,
          130,
          129,
          128,
          127,
          126,
          125,
          124,
          123,
          122,
          121,
          120,
          119,
          118,
          117,
          116,
          115,
          114,
          113,
          112,
          111,
          110,
          109,
          108,
          107,
          106,
          105,
          104,
          103,
          102,
          101,
          100,
          99,
          98,
          97,
          96,
          95,
          94,
          93,
          92,
          91,
          90,
          89,
          88,
          87,
          86,
          85,
          84,
          83,
          82,
          81,
          80,
          79,
          78,
          77,
          76,
          75,
          74,
          73,
          72,
          71,
          70,
          69,
          68,
          67,
          66,
          65,
          64,
          63,
          62,
          61,
          60,
          59,
          58,
          57,
          56,
          55,
          54,
          53,
          52,
          51,
          50,
          49,
          48,
          47,
          46,
          45,
          44,
          43,
          42,
          41,
          40,
          39,
          38,
          37,
          36,
          35,
          34,
          33,
          32,
          31,
          30,
          29,
          28,
          27,
          26,
          25,
          24,
          23,
          22,
          21,
          20,
          19,
          18,
          17,
          16,
          15,
          14,
          13,
          12,
          11,
          10,
          9,
          8,
          7,
          6,
          5,
          4,
          3,
          2,
          1
         ]
        }
       ],
       "layout": {
        "template": {
         "data": {
          "bar": [
           {
            "error_x": {
             "color": "#2a3f5f"
            },
            "error_y": {
             "color": "#2a3f5f"
            },
            "marker": {
             "line": {
              "color": "#E5ECF6",
              "width": 0.5
             },
             "pattern": {
              "fillmode": "overlay",
              "size": 10,
              "solidity": 0.2
             }
            },
            "type": "bar"
           }
          ],
          "barpolar": [
           {
            "marker": {
             "line": {
              "color": "#E5ECF6",
              "width": 0.5
             },
             "pattern": {
              "fillmode": "overlay",
              "size": 10,
              "solidity": 0.2
             }
            },
            "type": "barpolar"
           }
          ],
          "carpet": [
           {
            "aaxis": {
             "endlinecolor": "#2a3f5f",
             "gridcolor": "white",
             "linecolor": "white",
             "minorgridcolor": "white",
             "startlinecolor": "#2a3f5f"
            },
            "baxis": {
             "endlinecolor": "#2a3f5f",
             "gridcolor": "white",
             "linecolor": "white",
             "minorgridcolor": "white",
             "startlinecolor": "#2a3f5f"
            },
            "type": "carpet"
           }
          ],
          "choropleth": [
           {
            "colorbar": {
             "outlinewidth": 0,
             "ticks": ""
            },
            "type": "choropleth"
           }
          ],
          "contour": [
           {
            "colorbar": {
             "outlinewidth": 0,
             "ticks": ""
            },
            "colorscale": [
             [
              0,
              "#0d0887"
             ],
             [
              0.1111111111111111,
              "#46039f"
             ],
             [
              0.2222222222222222,
              "#7201a8"
             ],
             [
              0.3333333333333333,
              "#9c179e"
             ],
             [
              0.4444444444444444,
              "#bd3786"
             ],
             [
              0.5555555555555556,
              "#d8576b"
             ],
             [
              0.6666666666666666,
              "#ed7953"
             ],
             [
              0.7777777777777778,
              "#fb9f3a"
             ],
             [
              0.8888888888888888,
              "#fdca26"
             ],
             [
              1,
              "#f0f921"
             ]
            ],
            "type": "contour"
           }
          ],
          "contourcarpet": [
           {
            "colorbar": {
             "outlinewidth": 0,
             "ticks": ""
            },
            "type": "contourcarpet"
           }
          ],
          "heatmap": [
           {
            "colorbar": {
             "outlinewidth": 0,
             "ticks": ""
            },
            "colorscale": [
             [
              0,
              "#0d0887"
             ],
             [
              0.1111111111111111,
              "#46039f"
             ],
             [
              0.2222222222222222,
              "#7201a8"
             ],
             [
              0.3333333333333333,
              "#9c179e"
             ],
             [
              0.4444444444444444,
              "#bd3786"
             ],
             [
              0.5555555555555556,
              "#d8576b"
             ],
             [
              0.6666666666666666,
              "#ed7953"
             ],
             [
              0.7777777777777778,
              "#fb9f3a"
             ],
             [
              0.8888888888888888,
              "#fdca26"
             ],
             [
              1,
              "#f0f921"
             ]
            ],
            "type": "heatmap"
           }
          ],
          "heatmapgl": [
           {
            "colorbar": {
             "outlinewidth": 0,
             "ticks": ""
            },
            "colorscale": [
             [
              0,
              "#0d0887"
             ],
             [
              0.1111111111111111,
              "#46039f"
             ],
             [
              0.2222222222222222,
              "#7201a8"
             ],
             [
              0.3333333333333333,
              "#9c179e"
             ],
             [
              0.4444444444444444,
              "#bd3786"
             ],
             [
              0.5555555555555556,
              "#d8576b"
             ],
             [
              0.6666666666666666,
              "#ed7953"
             ],
             [
              0.7777777777777778,
              "#fb9f3a"
             ],
             [
              0.8888888888888888,
              "#fdca26"
             ],
             [
              1,
              "#f0f921"
             ]
            ],
            "type": "heatmapgl"
           }
          ],
          "histogram": [
           {
            "marker": {
             "pattern": {
              "fillmode": "overlay",
              "size": 10,
              "solidity": 0.2
             }
            },
            "type": "histogram"
           }
          ],
          "histogram2d": [
           {
            "colorbar": {
             "outlinewidth": 0,
             "ticks": ""
            },
            "colorscale": [
             [
              0,
              "#0d0887"
             ],
             [
              0.1111111111111111,
              "#46039f"
             ],
             [
              0.2222222222222222,
              "#7201a8"
             ],
             [
              0.3333333333333333,
              "#9c179e"
             ],
             [
              0.4444444444444444,
              "#bd3786"
             ],
             [
              0.5555555555555556,
              "#d8576b"
             ],
             [
              0.6666666666666666,
              "#ed7953"
             ],
             [
              0.7777777777777778,
              "#fb9f3a"
             ],
             [
              0.8888888888888888,
              "#fdca26"
             ],
             [
              1,
              "#f0f921"
             ]
            ],
            "type": "histogram2d"
           }
          ],
          "histogram2dcontour": [
           {
            "colorbar": {
             "outlinewidth": 0,
             "ticks": ""
            },
            "colorscale": [
             [
              0,
              "#0d0887"
             ],
             [
              0.1111111111111111,
              "#46039f"
             ],
             [
              0.2222222222222222,
              "#7201a8"
             ],
             [
              0.3333333333333333,
              "#9c179e"
             ],
             [
              0.4444444444444444,
              "#bd3786"
             ],
             [
              0.5555555555555556,
              "#d8576b"
             ],
             [
              0.6666666666666666,
              "#ed7953"
             ],
             [
              0.7777777777777778,
              "#fb9f3a"
             ],
             [
              0.8888888888888888,
              "#fdca26"
             ],
             [
              1,
              "#f0f921"
             ]
            ],
            "type": "histogram2dcontour"
           }
          ],
          "mesh3d": [
           {
            "colorbar": {
             "outlinewidth": 0,
             "ticks": ""
            },
            "type": "mesh3d"
           }
          ],
          "parcoords": [
           {
            "line": {
             "colorbar": {
              "outlinewidth": 0,
              "ticks": ""
             }
            },
            "type": "parcoords"
           }
          ],
          "pie": [
           {
            "automargin": true,
            "type": "pie"
           }
          ],
          "scatter": [
           {
            "fillpattern": {
             "fillmode": "overlay",
             "size": 10,
             "solidity": 0.2
            },
            "type": "scatter"
           }
          ],
          "scatter3d": [
           {
            "line": {
             "colorbar": {
              "outlinewidth": 0,
              "ticks": ""
             }
            },
            "marker": {
             "colorbar": {
              "outlinewidth": 0,
              "ticks": ""
             }
            },
            "type": "scatter3d"
           }
          ],
          "scattercarpet": [
           {
            "marker": {
             "colorbar": {
              "outlinewidth": 0,
              "ticks": ""
             }
            },
            "type": "scattercarpet"
           }
          ],
          "scattergeo": [
           {
            "marker": {
             "colorbar": {
              "outlinewidth": 0,
              "ticks": ""
             }
            },
            "type": "scattergeo"
           }
          ],
          "scattergl": [
           {
            "marker": {
             "colorbar": {
              "outlinewidth": 0,
              "ticks": ""
             }
            },
            "type": "scattergl"
           }
          ],
          "scattermapbox": [
           {
            "marker": {
             "colorbar": {
              "outlinewidth": 0,
              "ticks": ""
             }
            },
            "type": "scattermapbox"
           }
          ],
          "scatterpolar": [
           {
            "marker": {
             "colorbar": {
              "outlinewidth": 0,
              "ticks": ""
             }
            },
            "type": "scatterpolar"
           }
          ],
          "scatterpolargl": [
           {
            "marker": {
             "colorbar": {
              "outlinewidth": 0,
              "ticks": ""
             }
            },
            "type": "scatterpolargl"
           }
          ],
          "scatterternary": [
           {
            "marker": {
             "colorbar": {
              "outlinewidth": 0,
              "ticks": ""
             }
            },
            "type": "scatterternary"
           }
          ],
          "surface": [
           {
            "colorbar": {
             "outlinewidth": 0,
             "ticks": ""
            },
            "colorscale": [
             [
              0,
              "#0d0887"
             ],
             [
              0.1111111111111111,
              "#46039f"
             ],
             [
              0.2222222222222222,
              "#7201a8"
             ],
             [
              0.3333333333333333,
              "#9c179e"
             ],
             [
              0.4444444444444444,
              "#bd3786"
             ],
             [
              0.5555555555555556,
              "#d8576b"
             ],
             [
              0.6666666666666666,
              "#ed7953"
             ],
             [
              0.7777777777777778,
              "#fb9f3a"
             ],
             [
              0.8888888888888888,
              "#fdca26"
             ],
             [
              1,
              "#f0f921"
             ]
            ],
            "type": "surface"
           }
          ],
          "table": [
           {
            "cells": {
             "fill": {
              "color": "#EBF0F8"
             },
             "line": {
              "color": "white"
             }
            },
            "header": {
             "fill": {
              "color": "#C8D4E3"
             },
             "line": {
              "color": "white"
             }
            },
            "type": "table"
           }
          ]
         },
         "layout": {
          "annotationdefaults": {
           "arrowcolor": "#2a3f5f",
           "arrowhead": 0,
           "arrowwidth": 1
          },
          "autotypenumbers": "strict",
          "coloraxis": {
           "colorbar": {
            "outlinewidth": 0,
            "ticks": ""
           }
          },
          "colorscale": {
           "diverging": [
            [
             0,
             "#8e0152"
            ],
            [
             0.1,
             "#c51b7d"
            ],
            [
             0.2,
             "#de77ae"
            ],
            [
             0.3,
             "#f1b6da"
            ],
            [
             0.4,
             "#fde0ef"
            ],
            [
             0.5,
             "#f7f7f7"
            ],
            [
             0.6,
             "#e6f5d0"
            ],
            [
             0.7,
             "#b8e186"
            ],
            [
             0.8,
             "#7fbc41"
            ],
            [
             0.9,
             "#4d9221"
            ],
            [
             1,
             "#276419"
            ]
           ],
           "sequential": [
            [
             0,
             "#0d0887"
            ],
            [
             0.1111111111111111,
             "#46039f"
            ],
            [
             0.2222222222222222,
             "#7201a8"
            ],
            [
             0.3333333333333333,
             "#9c179e"
            ],
            [
             0.4444444444444444,
             "#bd3786"
            ],
            [
             0.5555555555555556,
             "#d8576b"
            ],
            [
             0.6666666666666666,
             "#ed7953"
            ],
            [
             0.7777777777777778,
             "#fb9f3a"
            ],
            [
             0.8888888888888888,
             "#fdca26"
            ],
            [
             1,
             "#f0f921"
            ]
           ],
           "sequentialminus": [
            [
             0,
             "#0d0887"
            ],
            [
             0.1111111111111111,
             "#46039f"
            ],
            [
             0.2222222222222222,
             "#7201a8"
            ],
            [
             0.3333333333333333,
             "#9c179e"
            ],
            [
             0.4444444444444444,
             "#bd3786"
            ],
            [
             0.5555555555555556,
             "#d8576b"
            ],
            [
             0.6666666666666666,
             "#ed7953"
            ],
            [
             0.7777777777777778,
             "#fb9f3a"
            ],
            [
             0.8888888888888888,
             "#fdca26"
            ],
            [
             1,
             "#f0f921"
            ]
           ]
          },
          "colorway": [
           "#636efa",
           "#EF553B",
           "#00cc96",
           "#ab63fa",
           "#FFA15A",
           "#19d3f3",
           "#FF6692",
           "#B6E880",
           "#FF97FF",
           "#FECB52"
          ],
          "font": {
           "color": "#2a3f5f"
          },
          "geo": {
           "bgcolor": "white",
           "lakecolor": "white",
           "landcolor": "#E5ECF6",
           "showlakes": true,
           "showland": true,
           "subunitcolor": "white"
          },
          "hoverlabel": {
           "align": "left"
          },
          "hovermode": "closest",
          "mapbox": {
           "style": "light"
          },
          "paper_bgcolor": "white",
          "plot_bgcolor": "#E5ECF6",
          "polar": {
           "angularaxis": {
            "gridcolor": "white",
            "linecolor": "white",
            "ticks": ""
           },
           "bgcolor": "#E5ECF6",
           "radialaxis": {
            "gridcolor": "white",
            "linecolor": "white",
            "ticks": ""
           }
          },
          "scene": {
           "xaxis": {
            "backgroundcolor": "#E5ECF6",
            "gridcolor": "white",
            "gridwidth": 2,
            "linecolor": "white",
            "showbackground": true,
            "ticks": "",
            "zerolinecolor": "white"
           },
           "yaxis": {
            "backgroundcolor": "#E5ECF6",
            "gridcolor": "white",
            "gridwidth": 2,
            "linecolor": "white",
            "showbackground": true,
            "ticks": "",
            "zerolinecolor": "white"
           },
           "zaxis": {
            "backgroundcolor": "#E5ECF6",
            "gridcolor": "white",
            "gridwidth": 2,
            "linecolor": "white",
            "showbackground": true,
            "ticks": "",
            "zerolinecolor": "white"
           }
          },
          "shapedefaults": {
           "line": {
            "color": "#2a3f5f"
           }
          },
          "ternary": {
           "aaxis": {
            "gridcolor": "white",
            "linecolor": "white",
            "ticks": ""
           },
           "baxis": {
            "gridcolor": "white",
            "linecolor": "white",
            "ticks": ""
           },
           "bgcolor": "#E5ECF6",
           "caxis": {
            "gridcolor": "white",
            "linecolor": "white",
            "ticks": ""
           }
          },
          "title": {
           "x": 0.05
          },
          "xaxis": {
           "automargin": true,
           "gridcolor": "white",
           "linecolor": "white",
           "ticks": "",
           "title": {
            "standoff": 15
           },
           "zerolinecolor": "white",
           "zerolinewidth": 2
          },
          "yaxis": {
           "automargin": true,
           "gridcolor": "white",
           "linecolor": "white",
           "ticks": "",
           "title": {
            "standoff": 15
           },
           "zerolinecolor": "white",
           "zerolinewidth": 2
          }
         }
        },
        "xaxis": {
         "anchor": "y",
         "domain": [
          0,
          0.94
         ]
        },
        "yaxis": {
         "anchor": "x",
         "domain": [
          0,
          1
         ]
        },
        "yaxis2": {
         "anchor": "x",
         "overlaying": "y",
         "side": "right"
        }
       }
      }
     },
     "metadata": {},
     "output_type": "display_data"
    }
   ],
   "source": [
    "from plotly.subplots import make_subplots\n",
    "import plotly.graph_objects as go\n",
    "\n",
    "fig3 = make_subplots(specs=[[{\"secondary_y\": True}]])\n",
    "fig3.add_trace(go.Candlestick(x=df.index,\n",
    "                              open=df['OPEN'],\n",
    "                              high=df['HIGH'],\n",
    "                              low=df['LOW'],\n",
    "                              close=df['close'],\n",
    "                             ))\n"
   ]
  },
  {
   "cell_type": "code",
   "execution_count": 38,
   "id": "174129a6",
   "metadata": {},
   "outputs": [
    {
     "data": {
      "image/png": "[encoded data removed]",
      "text/plain": [
       "<Figure size 640x480 with 1 Axes>"
      ]
     },
     "metadata": {},
     "output_type": "display_data"
    }
   ],
   "source": [
    "time_values = np.arange(len(test_output))\n",
    "\n",
    "plt.plot(time_values, test_output, label='Actual Close', color='blue')\n",
    "plt.plot(time_values, test_predictions, label='Predicted Close', color='red')\n",
    "plt.xlabel('Time/Index')\n",
    "plt.ylabel('Close Price')\n",
    "plt.title('Actual vs. Predicted Close Prices')\n",
    "plt.legend()\n",
    "plt.show()"
   ]
  },
  {
   "cell_type": "code",
   "execution_count": null,
   "id": "bc013013",
   "metadata": {},
   "outputs": [],
   "source": []
  }
 ],
 "metadata": {
  "kernelspec": {
   "display_name": "Python 3 (ipykernel)",
   "language": "python",
   "name": "python3"
  },
  "language_info": {
   "codemirror_mode": {
    "name": "ipython",
    "version": 3
   },
   "file_extension": ".py",
   "mimetype": "text/x-python",
   "name": "python",
   "nbconvert_exporter": "python",
   "pygments_lexer": "ipython3",
   "version": "3.10.11"
  }
 },
 "nbformat": 4,
 "nbformat_minor": 5
}
